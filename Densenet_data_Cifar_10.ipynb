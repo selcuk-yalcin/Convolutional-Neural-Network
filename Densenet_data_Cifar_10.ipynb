{
  "cells": [
    {
      "cell_type": "markdown",
      "metadata": {
        "id": "view-in-github",
        "colab_type": "text"
      },
      "source": [
        "<a href=\"https://colab.research.google.com/github/selcuk-yalcin/Convolutional-Neural-Network/blob/main/Densenet_data_Cifar_10.ipynb\" target=\"_parent\"><img src=\"https://colab.research.google.com/assets/colab-badge.svg\" alt=\"Open In Colab\"/></a>"
      ]
    },
    {
      "cell_type": "code",
      "execution_count": 9,
      "id": "d90880ed",
      "metadata": {
        "id": "d90880ed"
      },
      "outputs": [],
      "source": [
        "# ============================================================\n",
        "# DenseNet Mini Example with CIFAR-10\n",
        "# ============================================================\n",
        "# Covers: Bottleneck Layer → Dense Block → Transition Layer\n",
        "# Uses: real CIFAR-10 images\n",
        "# ============================================================\n",
        "\n",
        "import torch\n",
        "import torch.nn as nn\n",
        "import torch.nn.functional as F\n",
        "import torch.optim as optim\n",
        "import torchvision\n",
        "import torchvision.transforms as transforms"
      ]
    },
    {
      "cell_type": "code",
      "source": [
        "# ============================================================\n",
        "# Step 1: Define the Bottleneck Layer\n",
        "# ============================================================\n",
        "\n",
        "class BottleneckLayer(nn.Module):\n",
        "    def __init__(self, in_channels, growth_rate):\n",
        "        super(BottleneckLayer, self).__init__()\n",
        "        inner_channels = 4 * growth_rate\n",
        "\n",
        "        self.bn1 = nn.BatchNorm2d(in_channels)\n",
        "        self.relu1 = nn.ReLU(inplace=True)\n",
        "        self.conv1 = nn.Conv2d(in_channels, inner_channels, kernel_size=1, bias=False)\n",
        "\n",
        "        self.bn2 = nn.BatchNorm2d(inner_channels)\n",
        "        self.relu2 = nn.ReLU(inplace=True)\n",
        "        self.conv2 = nn.Conv2d(inner_channels, growth_rate, kernel_size=3, padding=1, bias=False)\n",
        "\n",
        "    def forward(self, x):\n",
        "        out = self.conv1(self.relu1(self.bn1(x)))\n",
        "        out = self.conv2(self.relu2(self.bn2(out)))\n",
        "        out = torch.cat([x, out], 1)  # Dense connection\n",
        "        return out"
      ],
      "metadata": {
        "id": "HE4vxKPOFKIS"
      },
      "id": "HE4vxKPOFKIS",
      "execution_count": 23,
      "outputs": []
    },
    {
      "cell_type": "code",
      "source": [
        "# ============================================================\n",
        "# Step 2: Define a Dense Block\n",
        "# ============================================================\n",
        "\n",
        "class DenseBlock(nn.Module):\n",
        "    def __init__(self, num_layers, in_channels, growth_rate):\n",
        "        super(DenseBlock, self).__init__()\n",
        "        self.layers = nn.ModuleList()\n",
        "        for i in range(num_layers):\n",
        "            layer = BottleneckLayer(in_channels + i * growth_rate, growth_rate)\n",
        "            self.layers.append(layer)\n",
        "\n",
        "    def forward(self, x):\n",
        "        for layer in self.layers:\n",
        "            x = layer(x)\n",
        "        return x"
      ],
      "metadata": {
        "id": "GrADc6OmFScZ"
      },
      "id": "GrADc6OmFScZ",
      "execution_count": 22,
      "outputs": []
    },
    {
      "cell_type": "code",
      "source": [
        "# ============================================================\n",
        "# Step 3: Define the Transition Layer\n",
        "# ============================================================\n",
        "\n",
        "class TransitionLayer(nn.Module):\n",
        "    def __init__(self, in_channels, compression=0.5):\n",
        "        super(TransitionLayer, self).__init__()\n",
        "        out_channels = int(in_channels * compression)\n",
        "        self.bn = nn.BatchNorm2d(in_channels)\n",
        "        self.relu = nn.ReLU(inplace=True)\n",
        "        self.conv = nn.Conv2d(in_channels, out_channels, kernel_size=1, bias=False)\n",
        "        self.pool = nn.AvgPool2d(2, stride=2)\n",
        "\n",
        "    def forward(self, x):\n",
        "        x = self.conv(self.relu(self.bn(x)))\n",
        "        x = self.pool(x)\n",
        "        return x"
      ],
      "metadata": {
        "id": "xVELAc9zG0f2"
      },
      "id": "xVELAc9zG0f2",
      "execution_count": 21,
      "outputs": []
    },
    {
      "cell_type": "code",
      "source": [
        "# ============================================================\n",
        "# Step 4: Define a Mini DenseNet for CIFAR-10\n",
        "# ============================================================\n",
        "\n",
        "class MiniDenseNet(nn.Module):\n",
        "    def __init__(self, in_channels=3, growth_rate=20, num_classes=10):\n",
        "        super(MiniDenseNet, self).__init__()\n",
        "        self.initial_conv = nn.Conv2d(in_channels, 24, kernel_size=3, padding=1, bias=False)\n",
        "        self.block1 = DenseBlock(4, 24, growth_rate)\n",
        "        self.trans1 = TransitionLayer(24 + 4 * growth_rate)\n",
        "        self.block2 = DenseBlock(4, int((24 + 4 * growth_rate) * 0.5), growth_rate)\n",
        "        self.trans2 = TransitionLayer(int((24 + 4 * growth_rate) * 0.5) + 4 * growth_rate)\n",
        "        self.classifier = nn.Linear(int(((24 + 4 * growth_rate) * 0.5 + 4 * growth_rate) * 0.5), num_classes)\n",
        "\n",
        "    def forward(self, x):\n",
        "        x = self.initial_conv(x)\n",
        "        x = self.block1(x)\n",
        "        x = self.trans1(x)\n",
        "        x = self.block2(x)\n",
        "        x = self.trans2(x)\n",
        "\n",
        "        x = F.adaptive_avg_pool2d(x, (1, 1))\n",
        "        x = torch.flatten(x, 1)\n",
        "        x = self.classifier(x)\n",
        "        return x"
      ],
      "metadata": {
        "id": "mVjMfq1RFY3i"
      },
      "id": "mVjMfq1RFY3i",
      "execution_count": 20,
      "outputs": []
    },
    {
      "cell_type": "code",
      "source": [
        "# ============================================================\n",
        "# Step 5: Load CIFAR-10 Dataset\n",
        "# ============================================================\n",
        "\n",
        "transform = transforms.Compose([\n",
        "    transforms.ToTensor(),\n",
        "    transforms.Normalize((0.5, 0.5, 0.5), (0.5, 0.5, 0.5))\n",
        "])\n",
        "\n",
        "trainset = torchvision.datasets.CIFAR10(root='./data', train=True, download=True, transform=transform)\n",
        "trainloader = torch.utils.data.DataLoader(trainset, batch_size=64, shuffle=True)\n",
        "\n",
        "testset = torchvision.datasets.CIFAR10(root='./data', train=False, download=True, transform=transform)\n",
        "testloader = torch.utils.data.DataLoader(testset, batch_size=64, shuffle=False)"
      ],
      "metadata": {
        "id": "1N0eVrZBFmEv"
      },
      "id": "1N0eVrZBFmEv",
      "execution_count": 24,
      "outputs": []
    },
    {
      "cell_type": "code",
      "source": [
        "# ============================================================\n",
        "# Step 6: Train on CIFAR-10\n",
        "# ============================================================\n",
        "\n",
        "device = torch.device(\"cuda\" if torch.cuda.is_available() else \"cpu\")\n",
        "model = MiniDenseNet().to(device)\n",
        "\n",
        "criterion = nn.CrossEntropyLoss()\n",
        "optimizer = optim.Adam(model.parameters(), lr=0.0005)\n",
        "\n",
        "print(\"\\n Starting training...\\n\")\n",
        "\n",
        "for epoch in range(10):  # small demo: 20 epochs\n",
        "    running_loss = 0.0\n",
        "    for i, (inputs, labels) in enumerate(trainloader):\n",
        "        inputs, labels = inputs.to(device), labels.to(device)\n",
        "\n",
        "        optimizer.zero_grad()\n",
        "        outputs = model(inputs)\n",
        "        loss = criterion(outputs, labels)\n",
        "        loss.backward()\n",
        "        optimizer.step()\n",
        "\n",
        "        running_loss += loss.item()\n",
        "        if i % 100 == 99:\n",
        "            print(f\"[Epoch {epoch+1}, Batch {i+1}] Loss: {running_loss/100:.3f}\")\n",
        "            running_loss = 0.0\n",
        "\n",
        "print(\"\\n Training complete!\")"
      ],
      "metadata": {
        "colab": {
          "base_uri": "https://localhost:8080/"
        },
        "id": "bFZqG3e8HXPG",
        "outputId": "b41e2109-6a82-4f45-e71e-7f28de2c1c44",
        "collapsed": true
      },
      "id": "bFZqG3e8HXPG",
      "execution_count": null,
      "outputs": [
        {
          "output_type": "stream",
          "name": "stdout",
          "text": [
            "\n",
            " Starting training...\n",
            "\n",
            "[Epoch 1, Batch 100] Loss: 1.937\n",
            "[Epoch 1, Batch 200] Loss: 1.638\n",
            "[Epoch 1, Batch 300] Loss: 1.513\n",
            "[Epoch 1, Batch 400] Loss: 1.423\n",
            "[Epoch 1, Batch 500] Loss: 1.351\n",
            "[Epoch 1, Batch 600] Loss: 1.323\n",
            "[Epoch 1, Batch 700] Loss: 1.273\n",
            "[Epoch 2, Batch 100] Loss: 1.178\n",
            "[Epoch 2, Batch 200] Loss: 1.116\n",
            "[Epoch 2, Batch 300] Loss: 1.099\n",
            "[Epoch 2, Batch 400] Loss: 1.073\n",
            "[Epoch 2, Batch 500] Loss: 1.051\n",
            "[Epoch 2, Batch 600] Loss: 1.026\n",
            "[Epoch 2, Batch 700] Loss: 1.006\n",
            "[Epoch 3, Batch 100] Loss: 0.941\n",
            "[Epoch 3, Batch 200] Loss: 0.946\n",
            "[Epoch 3, Batch 300] Loss: 0.934\n",
            "[Epoch 3, Batch 400] Loss: 0.908\n",
            "[Epoch 3, Batch 500] Loss: 0.892\n",
            "[Epoch 3, Batch 600] Loss: 0.883\n",
            "[Epoch 3, Batch 700] Loss: 0.869\n",
            "[Epoch 4, Batch 100] Loss: 0.849\n",
            "[Epoch 4, Batch 200] Loss: 0.842\n",
            "[Epoch 4, Batch 300] Loss: 0.798\n",
            "[Epoch 4, Batch 400] Loss: 0.778\n"
          ]
        }
      ]
    },
    {
      "cell_type": "code",
      "source": [
        "# ============================================================\n",
        "# Step 7: Evaluate on Test Data\n",
        "# ============================================================\n",
        "\n",
        "correct, total = 0, 0\n",
        "model.eval()\n",
        "with torch.no_grad():\n",
        "    for inputs, labels in testloader:\n",
        "        inputs, labels = inputs.to(device), labels.to(device)\n",
        "        outputs = model(inputs)\n",
        "        _, predicted = torch.max(outputs, 1)\n",
        "        total += labels.size(0)\n",
        "        correct += (predicted == labels).sum().item()\n",
        "\n",
        "print(f\"\\n Test Accuracy: {100 * correct / total:.2f}%\")"
      ],
      "metadata": {
        "colab": {
          "base_uri": "https://localhost:8080/"
        },
        "collapsed": true,
        "id": "xEWgiFN_Owz_",
        "outputId": "6b83540d-c490-4184-b742-d5f0b79861f0"
      },
      "id": "xEWgiFN_Owz_",
      "execution_count": 19,
      "outputs": [
        {
          "output_type": "stream",
          "name": "stdout",
          "text": [
            "\n",
            " Test Accuracy: 73.96%\n"
          ]
        }
      ]
    }
  ],
  "metadata": {
    "kernelspec": {
      "display_name": "Python 3",
      "name": "python3"
    },
    "language_info": {
      "codemirror_mode": {
        "name": "ipython",
        "version": 3
      },
      "file_extension": ".py",
      "mimetype": "text/x-python",
      "name": "python",
      "nbconvert_exporter": "python",
      "pygments_lexer": "ipython3",
      "version": "3.10.16"
    },
    "colab": {
      "provenance": [],
      "toc_visible": true,
      "gpuType": "T4",
      "include_colab_link": true
    },
    "accelerator": "GPU"
  },
  "nbformat": 4,
  "nbformat_minor": 5
}