{
  "nbformat": 4,
  "nbformat_minor": 0,
  "metadata": {
    "colab": {
      "provenance": [],
      "gpuType": "T4",
      "authorship_tag": "ABX9TyPvTQbtSOeMfbm/jOCRriUd",
      "include_colab_link": true
    },
    "kernelspec": {
      "name": "python3",
      "display_name": "Python 3"
    },
    "language_info": {
      "name": "python"
    },
    "accelerator": "GPU"
  },
  "cells": [
    {
      "cell_type": "markdown",
      "metadata": {
        "id": "view-in-github",
        "colab_type": "text"
      },
      "source": [
        "<a href=\"https://colab.research.google.com/github/selcuk-yalcin/Convolutional-Neural-Network/blob/main/ConvolutionalNN.ipynb\" target=\"_parent\"><img src=\"https://colab.research.google.com/assets/colab-badge.svg\" alt=\"Open In Colab\"/></a>"
      ]
    },
    {
      "cell_type": "code",
      "execution_count": 1,
      "metadata": {
        "id": "2G6SbxlkwZJg"
      },
      "outputs": [],
      "source": [
        "import torch\n",
        "import torch.nn as nn\n",
        "import torch.optim as optim\n",
        "import torchvision\n",
        "import torchvision.transforms as transforms\n",
        "import torch.nn.functional as F\n"
      ]
    },
    {
      "cell_type": "code",
      "source": [
        "# 1. Load CIFAR-10 dataset\n",
        "transform = transforms.Compose([\n",
        "    transforms.ToTensor(),\n",
        "    transforms.Normalize((0.5, 0.5, 0.5), (0.5, 0.5, 0.5))\n",
        "])\n",
        "\n",
        "trainset = torchvision.datasets.CIFAR10(root='./data', train=True,\n",
        "                                        download=True, transform=transform)\n",
        "trainloader = torch.utils.data.DataLoader(trainset, batch_size=64,\n",
        "                                          shuffle=True, num_workers=2)\n",
        "\n",
        "testset = torchvision.datasets.CIFAR10(root='./data', train=False,\n",
        "                                       download=True, transform=transform)\n",
        "testloader = torch.utils.data.DataLoader(testset, batch_size=64,\n",
        "                                         shuffle=False, num_workers=2)\n",
        "\n",
        "classes = ('plane', 'car', 'bird', 'cat',\n",
        "           'deer', 'dog', 'frog', 'horse', 'ship', 'truck')\n"
      ],
      "metadata": {
        "id": "e_FyGIr6wsfe"
      },
      "execution_count": 13,
      "outputs": []
    },
    {
      "cell_type": "code",
      "source": [
        "# 2. Define CNN\n",
        "class BirdCNN(nn.Module):\n",
        "    def __init__(self):\n",
        "        super().__init__()\n",
        "        self.pool = nn.MaxPool2d(2, 2)\n",
        "\n",
        "        self.conv1 = nn.Conv2d(3,   16, 3, padding=1)  # 32x32 -> pool: 16x16\n",
        "        self.conv2 = nn.Conv2d(16,  32, 3, padding=1)  # 16x16 -> pool: 8x8\n",
        "        self.conv3 = nn.Conv2d(32,  64, 3, padding=1)  # 8x8   -> pool: 4x4\n",
        "        self.conv4 = nn.Conv2d(64, 128, 3, padding=1)  # 4x4   -> pool: 2x2\n",
        "\n",
        "        self.fc1 = nn.Sequential(\n",
        "            nn.Linear(128 * 2 * 2, 128),  # 512 -> 128\n",
        "            nn.ReLU(),\n",
        "            nn.Dropout(0.5)\n",
        "        )\n",
        "        self.fc2 = nn.Linear(128, 10)\n",
        "\n",
        "    def forward(self, x):\n",
        "        x = self.pool(F.relu(self.conv1(x)))  # 32->16\n",
        "        x = self.pool(F.relu(self.conv2(x)))  # 16->8\n",
        "        x = self.pool(F.relu(self.conv3(x)))  # 8->4\n",
        "        x = self.pool(F.relu(self.conv4(x)))  # 4->2\n",
        "        x = x.view(x.size(0), -1)             # 128*2*2\n",
        "        x = self.fc1(x)\n",
        "        x = self.fc2(x)\n",
        "        return x\n"
      ],
      "metadata": {
        "id": "WP_oVv9Iwz8h"
      },
      "execution_count": 18,
      "outputs": []
    },
    {
      "cell_type": "code",
      "source": [
        "# 3. Initialize model, loss, optimizer\n",
        "net = BirdCNN()\n",
        "criterion = nn.CrossEntropyLoss()\n",
        "optimizer = optim.Adam(net.parameters(), lr=0.001)\n",
        "\n",
        "# 4. Training loop\n",
        "for epoch in range(20):  # train for 5 epochs (for speed)\n",
        "    running_loss = 0.0\n",
        "    for i, data in enumerate(trainloader, 0):\n",
        "        inputs, labels = data\n",
        "        optimizer.zero_grad()\n",
        "\n",
        "        outputs = net(inputs)\n",
        "        loss = criterion(outputs, labels)\n",
        "        loss.backward()\n",
        "        optimizer.step()\n",
        "\n",
        "        running_loss += loss.item()\n",
        "        if i % 200 == 199:    # print every 200 mini-batches\n",
        "            print(f'[Epoch {epoch+1}, Batch {i+1}] loss: {running_loss/200:.3f}')\n",
        "            running_loss = 0.0\n",
        "\n",
        "print(\"Finished Training\")"
      ],
      "metadata": {
        "colab": {
          "base_uri": "https://localhost:8080/"
        },
        "id": "HdFDtxedw6NL",
        "outputId": "4a497c1f-07c1-4d12-e0f0-1ce37e5e1a13"
      },
      "execution_count": 23,
      "outputs": [
        {
          "output_type": "stream",
          "name": "stdout",
          "text": [
            "[Epoch 1, Batch 200] loss: 2.029\n",
            "[Epoch 1, Batch 400] loss: 1.706\n",
            "[Epoch 1, Batch 600] loss: 1.544\n",
            "[Epoch 2, Batch 200] loss: 1.389\n",
            "[Epoch 2, Batch 400] loss: 1.318\n",
            "[Epoch 2, Batch 600] loss: 1.271\n",
            "[Epoch 3, Batch 200] loss: 1.167\n",
            "[Epoch 3, Batch 400] loss: 1.125\n",
            "[Epoch 3, Batch 600] loss: 1.108\n",
            "[Epoch 4, Batch 200] loss: 1.006\n",
            "[Epoch 4, Batch 400] loss: 0.983\n",
            "[Epoch 4, Batch 600] loss: 0.988\n",
            "[Epoch 5, Batch 200] loss: 0.899\n",
            "[Epoch 5, Batch 400] loss: 0.909\n",
            "[Epoch 5, Batch 600] loss: 0.882\n",
            "[Epoch 6, Batch 200] loss: 0.807\n",
            "[Epoch 6, Batch 400] loss: 0.830\n",
            "[Epoch 6, Batch 600] loss: 0.830\n",
            "[Epoch 7, Batch 200] loss: 0.756\n",
            "[Epoch 7, Batch 400] loss: 0.743\n",
            "[Epoch 7, Batch 600] loss: 0.739\n",
            "[Epoch 8, Batch 200] loss: 0.680\n",
            "[Epoch 8, Batch 400] loss: 0.686\n",
            "[Epoch 8, Batch 600] loss: 0.702\n",
            "[Epoch 9, Batch 200] loss: 0.633\n",
            "[Epoch 9, Batch 400] loss: 0.653\n",
            "[Epoch 9, Batch 600] loss: 0.649\n",
            "[Epoch 10, Batch 200] loss: 0.578\n",
            "[Epoch 10, Batch 400] loss: 0.605\n",
            "[Epoch 10, Batch 600] loss: 0.610\n",
            "[Epoch 11, Batch 200] loss: 0.541\n",
            "[Epoch 11, Batch 400] loss: 0.557\n",
            "[Epoch 11, Batch 600] loss: 0.577\n",
            "[Epoch 12, Batch 200] loss: 0.489\n",
            "[Epoch 12, Batch 400] loss: 0.513\n",
            "[Epoch 12, Batch 600] loss: 0.539\n",
            "[Epoch 13, Batch 200] loss: 0.473\n",
            "[Epoch 13, Batch 400] loss: 0.494\n",
            "[Epoch 13, Batch 600] loss: 0.514\n",
            "[Epoch 14, Batch 200] loss: 0.449\n",
            "[Epoch 14, Batch 400] loss: 0.450\n",
            "[Epoch 14, Batch 600] loss: 0.467\n",
            "[Epoch 15, Batch 200] loss: 0.407\n",
            "[Epoch 15, Batch 400] loss: 0.433\n",
            "[Epoch 15, Batch 600] loss: 0.443\n",
            "[Epoch 16, Batch 200] loss: 0.378\n",
            "[Epoch 16, Batch 400] loss: 0.407\n",
            "[Epoch 16, Batch 600] loss: 0.431\n",
            "[Epoch 17, Batch 200] loss: 0.383\n",
            "[Epoch 17, Batch 400] loss: 0.390\n",
            "[Epoch 17, Batch 600] loss: 0.393\n",
            "[Epoch 18, Batch 200] loss: 0.341\n",
            "[Epoch 18, Batch 400] loss: 0.373\n",
            "[Epoch 18, Batch 600] loss: 0.384\n",
            "[Epoch 19, Batch 200] loss: 0.327\n",
            "[Epoch 19, Batch 400] loss: 0.351\n",
            "[Epoch 19, Batch 600] loss: 0.363\n",
            "[Epoch 20, Batch 200] loss: 0.305\n",
            "[Epoch 20, Batch 400] loss: 0.330\n",
            "[Epoch 20, Batch 600] loss: 0.347\n",
            "Finished Training\n"
          ]
        }
      ]
    },
    {
      "cell_type": "code",
      "source": [
        "# 5. Test accuracy\n",
        "correct = 0\n",
        "total = 0\n",
        "with torch.no_grad():\n",
        "    for data in testloader:\n",
        "        images, labels = data\n",
        "        outputs = net(images)\n",
        "        _, predicted = torch.max(outputs.data, 1)\n",
        "        total += labels.size(0)\n",
        "        correct += (predicted == labels).sum().item()\n",
        "\n",
        "print(f'Accuracy on CIFAR-10 test images: {100 * correct / total:.2f}%')"
      ],
      "metadata": {
        "colab": {
          "base_uri": "https://localhost:8080/"
        },
        "id": "Q84aw-kIw9b1",
        "outputId": "fc14a1d1-2145-4410-aa82-2e8f1a6aa895"
      },
      "execution_count": 27,
      "outputs": [
        {
          "output_type": "stream",
          "name": "stdout",
          "text": [
            "Accuracy on CIFAR-10 test images: 72.23%\n"
          ]
        }
      ]
    }
  ]
}